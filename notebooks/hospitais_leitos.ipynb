{
 "cells": [
  {
   "attachments": {},
   "cell_type": "markdown",
   "metadata": {},
   "source": [
    "### HOSPITAIS"
   ]
  },
  {
   "attachments": {},
   "cell_type": "markdown",
   "metadata": {},
   "source": [
    "#### Libs"
   ]
  },
  {
   "cell_type": "code",
   "execution_count": 3,
   "metadata": {},
   "outputs": [],
   "source": [
    "import pandas as pd\n",
    "import plotly.graph_objects as go\n",
    "\n",
    "DATADIR = '../app/datasets/inputs'\n",
    "DATAOUT = '../app/datasets/outputs'"
   ]
  },
  {
   "attachments": {},
   "cell_type": "markdown",
   "metadata": {},
   "source": [
    "#### Base Hospitais"
   ]
  },
  {
   "cell_type": "code",
   "execution_count": 4,
   "metadata": {},
   "outputs": [
    {
     "data": {
      "text/html": [
       "<div>\n",
       "<style scoped>\n",
       "    .dataframe tbody tr th:only-of-type {\n",
       "        vertical-align: middle;\n",
       "    }\n",
       "\n",
       "    .dataframe tbody tr th {\n",
       "        vertical-align: top;\n",
       "    }\n",
       "\n",
       "    .dataframe thead th {\n",
       "        text-align: right;\n",
       "    }\n",
       "</style>\n",
       "<table border=\"1\" class=\"dataframe\">\n",
       "  <thead>\n",
       "    <tr style=\"text-align: right;\">\n",
       "      <th></th>\n",
       "      <th>estabelecimento</th>\n",
       "      <th>municipio</th>\n",
       "      <th>proced_partos</th>\n",
       "      <th>gestao</th>\n",
       "      <th>lat</th>\n",
       "      <th>lng</th>\n",
       "    </tr>\n",
       "  </thead>\n",
       "  <tbody>\n",
       "    <tr>\n",
       "      <th>0</th>\n",
       "      <td>HOSPITAL AGAMENON MAGALHAES</td>\n",
       "      <td>RECIFE</td>\n",
       "      <td>SIM</td>\n",
       "      <td>ESTADUAL</td>\n",
       "      <td>-8.030304</td>\n",
       "      <td>-34.907127</td>\n",
       "    </tr>\n",
       "    <tr>\n",
       "      <th>1</th>\n",
       "      <td>HOSPITAL BARAO DE LUCENA</td>\n",
       "      <td>RECIFE</td>\n",
       "      <td>SIM</td>\n",
       "      <td>ESTADUAL</td>\n",
       "      <td>-8.038482</td>\n",
       "      <td>-34.938984</td>\n",
       "    </tr>\n",
       "    <tr>\n",
       "      <th>2</th>\n",
       "      <td>HOSPITAL COLONIA PROFESSOR ALCIDES CODECEIRA (...</td>\n",
       "      <td>IGARASSU</td>\n",
       "      <td>NAO</td>\n",
       "      <td>ESTADUAL</td>\n",
       "      <td>-7.867347</td>\n",
       "      <td>-34.910435</td>\n",
       "    </tr>\n",
       "    <tr>\n",
       "      <th>3</th>\n",
       "      <td>HOSPITAL CORREIA PICANCO</td>\n",
       "      <td>RECIFE</td>\n",
       "      <td>NAO</td>\n",
       "      <td>ESTADUAL</td>\n",
       "      <td>-8.033935</td>\n",
       "      <td>-34.904743</td>\n",
       "    </tr>\n",
       "    <tr>\n",
       "      <th>4</th>\n",
       "      <td>HOSPITAL DA RESTAURACAO</td>\n",
       "      <td>RECIFE</td>\n",
       "      <td>NAO</td>\n",
       "      <td>ESTADUAL</td>\n",
       "      <td>-8.053505</td>\n",
       "      <td>-34.897739</td>\n",
       "    </tr>\n",
       "  </tbody>\n",
       "</table>\n",
       "</div>"
      ],
      "text/plain": [
       "                                     estabelecimento municipio proced_partos  \\\n",
       "0                        HOSPITAL AGAMENON MAGALHAES    RECIFE           SIM   \n",
       "1                           HOSPITAL BARAO DE LUCENA    RECIFE           SIM   \n",
       "2  HOSPITAL COLONIA PROFESSOR ALCIDES CODECEIRA (...  IGARASSU           NAO   \n",
       "3                           HOSPITAL CORREIA PICANCO    RECIFE           NAO   \n",
       "4                            HOSPITAL DA RESTAURACAO    RECIFE           NAO   \n",
       "\n",
       "     gestao       lat        lng  \n",
       "0  ESTADUAL -8.030304 -34.907127  \n",
       "1  ESTADUAL -8.038482 -34.938984  \n",
       "2  ESTADUAL -7.867347 -34.910435  \n",
       "3  ESTADUAL -8.033935 -34.904743  \n",
       "4  ESTADUAL -8.053505 -34.897739  "
      ]
     },
     "execution_count": 4,
     "metadata": {},
     "output_type": "execute_result"
    }
   ],
   "source": [
    "hosp_file_columns = {\n",
    "    'Name,C,254': 'estabelecimento',\n",
    "    'MUNICIPIO,C,254': 'municipio', \n",
    "    'PARTOS,C,254': 'proced_partos', \n",
    "    'GESTAO,C,254': 'gestao', \n",
    "    'LAT,N,11,10': 'lat', \n",
    "    'LONG,N,11,10': 'lng'\n",
    "}\n",
    "\n",
    "df_hosp = pd.read_csv(\n",
    "    f'{DATADIR}/HOSPITAL_ESTADUAL_PARTO_2.csv', \n",
    "    sep=';',\n",
    "    usecols=hosp_file_columns.keys(),\n",
    "    # dtype={'LAT,N,11,10': str, 'LONG,N,11,10': 'str'}\n",
    ").\\\n",
    "    rename(columns=hosp_file_columns)\n",
    "\n",
    "df_hosp['lat'] = df_hosp['lat'].str.replace(',', '.').astype('float32')\n",
    "df_hosp['lng'] = df_hosp['lng'].str.replace(',', '.').astype('float32')\n",
    "\n",
    "df_hosp.head()"
   ]
  },
  {
   "attachments": {},
   "cell_type": "markdown",
   "metadata": {},
   "source": [
    "#### Base Leitos"
   ]
  },
  {
   "cell_type": "code",
   "execution_count": 6,
   "metadata": {},
   "outputs": [
    {
     "data": {
      "text/html": [
       "<div>\n",
       "<style scoped>\n",
       "    .dataframe tbody tr th:only-of-type {\n",
       "        vertical-align: middle;\n",
       "    }\n",
       "\n",
       "    .dataframe tbody tr th {\n",
       "        vertical-align: top;\n",
       "    }\n",
       "\n",
       "    .dataframe thead th {\n",
       "        text-align: right;\n",
       "    }\n",
       "</style>\n",
       "<table border=\"1\" class=\"dataframe\">\n",
       "  <thead>\n",
       "    <tr style=\"text-align: right;\">\n",
       "      <th></th>\n",
       "      <th>cd_estab</th>\n",
       "      <th>estabelecimento</th>\n",
       "      <th>obst_cirurg</th>\n",
       "      <th>obst_clinica</th>\n",
       "      <th>uti_neo_i</th>\n",
       "      <th>uti_neo_ii</th>\n",
       "      <th>uti_neo_iii</th>\n",
       "      <th>uci_neo_conv</th>\n",
       "      <th>uci_neo_canguru</th>\n",
       "    </tr>\n",
       "  </thead>\n",
       "  <tbody>\n",
       "    <tr>\n",
       "      <th>0</th>\n",
       "      <td>0000019</td>\n",
       "      <td>POLICLINICA DR JAMACI DE MEDEIROS</td>\n",
       "      <td>0</td>\n",
       "      <td>0</td>\n",
       "      <td>0</td>\n",
       "      <td>0</td>\n",
       "      <td>0</td>\n",
       "      <td>0</td>\n",
       "      <td>0</td>\n",
       "    </tr>\n",
       "    <tr>\n",
       "      <th>1</th>\n",
       "      <td>0000027</td>\n",
       "      <td>CASA DE SAUDE SANTA HELENA</td>\n",
       "      <td>2</td>\n",
       "      <td>6</td>\n",
       "      <td>0</td>\n",
       "      <td>0</td>\n",
       "      <td>0</td>\n",
       "      <td>0</td>\n",
       "      <td>0</td>\n",
       "    </tr>\n",
       "    <tr>\n",
       "      <th>2</th>\n",
       "      <td>0000035</td>\n",
       "      <td>HOSPITAL MENDO SAMPAIO</td>\n",
       "      <td>0</td>\n",
       "      <td>0</td>\n",
       "      <td>0</td>\n",
       "      <td>0</td>\n",
       "      <td>0</td>\n",
       "      <td>0</td>\n",
       "      <td>0</td>\n",
       "    </tr>\n",
       "    <tr>\n",
       "      <th>3</th>\n",
       "      <td>0000043</td>\n",
       "      <td>POLICLINICA DR MANUEL GOMES</td>\n",
       "      <td>0</td>\n",
       "      <td>0</td>\n",
       "      <td>0</td>\n",
       "      <td>0</td>\n",
       "      <td>0</td>\n",
       "      <td>0</td>\n",
       "      <td>0</td>\n",
       "    </tr>\n",
       "    <tr>\n",
       "      <th>4</th>\n",
       "      <td>0000051</td>\n",
       "      <td>POLICLINICA VICENTE MENDES</td>\n",
       "      <td>0</td>\n",
       "      <td>0</td>\n",
       "      <td>0</td>\n",
       "      <td>0</td>\n",
       "      <td>0</td>\n",
       "      <td>0</td>\n",
       "      <td>0</td>\n",
       "    </tr>\n",
       "  </tbody>\n",
       "</table>\n",
       "</div>"
      ],
      "text/plain": [
       "  cd_estab                    estabelecimento  obst_cirurg  obst_clinica  \\\n",
       "0  0000019  POLICLINICA DR JAMACI DE MEDEIROS            0             0   \n",
       "1  0000027         CASA DE SAUDE SANTA HELENA            2             6   \n",
       "2  0000035             HOSPITAL MENDO SAMPAIO            0             0   \n",
       "3  0000043        POLICLINICA DR MANUEL GOMES            0             0   \n",
       "4  0000051         POLICLINICA VICENTE MENDES            0             0   \n",
       "\n",
       "   uti_neo_i  uti_neo_ii  uti_neo_iii  uci_neo_conv  uci_neo_canguru  \n",
       "0          0           0            0             0                0  \n",
       "1          0           0            0             0                0  \n",
       "2          0           0            0             0                0  \n",
       "3          0           0            0             0                0  \n",
       "4          0           0            0             0                0  "
      ]
     },
     "execution_count": 6,
     "metadata": {},
     "output_type": "execute_result"
    }
   ],
   "source": [
    "leitos_file_columns = {\n",
    "    'cd_nome_estab': 'cd_estab',\n",
    "    'nome_estab': 'estabelecimento', \n",
    "    'OBSTETRICIA CIRURGICA': 'obst_cirurg', \n",
    "    'OBSTETRICIA CLINICA': 'obst_clinica', \n",
    "    'OBSTETRICIA CLINICA': 'obst_clinica', \n",
    "    'UTI NEONATAL - TIPO I': 'uti_neo_i', \n",
    "    'UTI NEONATAL - TIPO II': 'uti_neo_ii', \n",
    "    'UTI NEONATAL - TIPO III': 'uti_neo_iii', \n",
    "    'UNIDADE DE CUIDADOS INTERMED NEONATAL CONVENCIONAL': 'uci_neo_conv', \n",
    "    'UNIDADE DE CUIDADOS INTERMED NEONATAL CANGURU': 'uci_neo_canguru', \n",
    "    # 'total_leitos_obstetricos': 'total_leitos_obstetricos', \n",
    "}\n",
    "\n",
    "df_leitos_obst = pd.read_excel(\n",
    "    # f'{DATADIR}/leitos_obstetricos.csv', \n",
    "    f'{DATADIR}/hospitais_por_leito.xlsx', \n",
    "    usecols=leitos_file_columns.keys(),\n",
    "    # dtype={'LAT,N,11,10': str, 'LONG,N,11,10': 'str'}\n",
    ").\\\n",
    "    rename(columns=leitos_file_columns)\n",
    "\n",
    "# df_leitos_obst['cd_estab'] = df_leitos_obst['cd_nm_estabelecimento'].apply(lambda x: x[:7])\n",
    "\n",
    "\n",
    "df_leitos_obst.head()"
   ]
  },
  {
   "attachments": {},
   "cell_type": "markdown",
   "metadata": {},
   "source": [
    "#### Join: Leitos + Hospitais Estaduais"
   ]
  },
  {
   "cell_type": "code",
   "execution_count": 7,
   "metadata": {},
   "outputs": [
    {
     "data": {
      "text/plain": [
       "0.12244897959183673"
      ]
     },
     "execution_count": 7,
     "metadata": {},
     "output_type": "execute_result"
    }
   ],
   "source": [
    "df_hosp_leitos = df_hosp.merge(df_leitos_obst, how='left', on='estabelecimento')\n",
    "\n",
    "df_hosp_leitos.cd_estab.isna().sum() / len(df_hosp_leitos.cd_estab)"
   ]
  },
  {
   "attachments": {},
   "cell_type": "markdown",
   "metadata": {},
   "source": [
    "Como 38% dos hospitais ainda sem código, vamos utilizar outra base..."
   ]
  },
  {
   "attachments": {},
   "cell_type": "markdown",
   "metadata": {},
   "source": [
    "#### Novo Join"
   ]
  },
  {
   "cell_type": "code",
   "execution_count": 8,
   "metadata": {},
   "outputs": [
    {
     "data": {
      "text/html": [
       "<div>\n",
       "<style scoped>\n",
       "    .dataframe tbody tr th:only-of-type {\n",
       "        vertical-align: middle;\n",
       "    }\n",
       "\n",
       "    .dataframe tbody tr th {\n",
       "        vertical-align: top;\n",
       "    }\n",
       "\n",
       "    .dataframe thead th {\n",
       "        text-align: right;\n",
       "    }\n",
       "</style>\n",
       "<table border=\"1\" class=\"dataframe\">\n",
       "  <thead>\n",
       "    <tr style=\"text-align: right;\">\n",
       "      <th></th>\n",
       "      <th>Estabel-CNES PE</th>\n",
       "      <th>cd_estab</th>\n",
       "      <th>estabelecimento</th>\n",
       "    </tr>\n",
       "  </thead>\n",
       "  <tbody>\n",
       "    <tr>\n",
       "      <th>0</th>\n",
       "      <td>0000396 HOSPITAL DAS CLINICAS</td>\n",
       "      <td>0000396</td>\n",
       "      <td>HOSPITAL DAS CLINICAS</td>\n",
       "    </tr>\n",
       "    <tr>\n",
       "      <th>1</th>\n",
       "      <td>0000418 HOSPITAL AGAMENON MAGALHAES</td>\n",
       "      <td>0000418</td>\n",
       "      <td>HOSPITAL AGAMENON MAGALHAES</td>\n",
       "    </tr>\n",
       "    <tr>\n",
       "      <th>2</th>\n",
       "      <td>0000426 HOSPITAL OTAVIO DE FREITAS</td>\n",
       "      <td>0000426</td>\n",
       "      <td>HOSPITAL OTAVIO DE FREITAS</td>\n",
       "    </tr>\n",
       "    <tr>\n",
       "      <th>3</th>\n",
       "      <td>0000434 IMIP</td>\n",
       "      <td>0000434</td>\n",
       "      <td>IMIP</td>\n",
       "    </tr>\n",
       "    <tr>\n",
       "      <th>4</th>\n",
       "      <td>0000477 HOSPITAL OSWALDO CRUZ</td>\n",
       "      <td>0000477</td>\n",
       "      <td>HOSPITAL OSWALDO CRUZ</td>\n",
       "    </tr>\n",
       "  </tbody>\n",
       "</table>\n",
       "</div>"
      ],
      "text/plain": [
       "                       Estabel-CNES PE cd_estab              estabelecimento\n",
       "0        0000396 HOSPITAL DAS CLINICAS  0000396        HOSPITAL DAS CLINICAS\n",
       "1  0000418 HOSPITAL AGAMENON MAGALHAES  0000418  HOSPITAL AGAMENON MAGALHAES\n",
       "2   0000426 HOSPITAL OTAVIO DE FREITAS  0000426   HOSPITAL OTAVIO DE FREITAS\n",
       "3                         0000434 IMIP  0000434                         IMIP\n",
       "4        0000477 HOSPITAL OSWALDO CRUZ  0000477        HOSPITAL OSWALDO CRUZ"
      ]
     },
     "execution_count": 8,
     "metadata": {},
     "output_type": "execute_result"
    }
   ],
   "source": [
    "df_estab = pd.read_csv(f'{DATADIR}/estabelecimentos_estaduais.csv', sep=';', usecols=['Estabel-CNES PE'])\n",
    "df_estab['cd_estab'] = df_estab['Estabel-CNES PE'].apply(lambda x: x[:7])\n",
    "df_estab['estabelecimento'] = df_estab['Estabel-CNES PE'].apply(lambda x: x[8:])\n",
    "\n",
    "df_estab.head()\n"
   ]
  },
  {
   "cell_type": "code",
   "execution_count": 11,
   "metadata": {},
   "outputs": [
    {
     "data": {
      "text/html": [
       "<div>\n",
       "<style scoped>\n",
       "    .dataframe tbody tr th:only-of-type {\n",
       "        vertical-align: middle;\n",
       "    }\n",
       "\n",
       "    .dataframe tbody tr th {\n",
       "        vertical-align: top;\n",
       "    }\n",
       "\n",
       "    .dataframe thead th {\n",
       "        text-align: right;\n",
       "    }\n",
       "</style>\n",
       "<table border=\"1\" class=\"dataframe\">\n",
       "  <thead>\n",
       "    <tr style=\"text-align: right;\">\n",
       "      <th></th>\n",
       "      <th>estabelecimento</th>\n",
       "      <th>municipio</th>\n",
       "      <th>proced_partos</th>\n",
       "      <th>gestao</th>\n",
       "      <th>lat</th>\n",
       "      <th>lng</th>\n",
       "      <th>obst_cirurg</th>\n",
       "      <th>obst_clinica</th>\n",
       "      <th>uti_neo_i</th>\n",
       "      <th>uti_neo_ii</th>\n",
       "      <th>uti_neo_iii</th>\n",
       "      <th>uci_neo_conv</th>\n",
       "      <th>uci_neo_canguru</th>\n",
       "      <th>Estabel-CNES PE</th>\n",
       "      <th>cd_estab</th>\n",
       "    </tr>\n",
       "  </thead>\n",
       "  <tbody>\n",
       "    <tr>\n",
       "      <th>0</th>\n",
       "      <td>HOSPITAL AGAMENON MAGALHAES</td>\n",
       "      <td>RECIFE</td>\n",
       "      <td>SIM</td>\n",
       "      <td>ESTADUAL</td>\n",
       "      <td>-8.030304</td>\n",
       "      <td>-34.907127</td>\n",
       "      <td>62</td>\n",
       "      <td>27</td>\n",
       "      <td>0</td>\n",
       "      <td>15</td>\n",
       "      <td>0</td>\n",
       "      <td>15</td>\n",
       "      <td>8</td>\n",
       "      <td>0000418 HOSPITAL AGAMENON MAGALHAES</td>\n",
       "      <td>0000418</td>\n",
       "    </tr>\n",
       "    <tr>\n",
       "      <th>1</th>\n",
       "      <td>HOSPITAL BARAO DE LUCENA</td>\n",
       "      <td>RECIFE</td>\n",
       "      <td>SIM</td>\n",
       "      <td>ESTADUAL</td>\n",
       "      <td>-8.038482</td>\n",
       "      <td>-34.938984</td>\n",
       "      <td>61</td>\n",
       "      <td>28</td>\n",
       "      <td>28</td>\n",
       "      <td>18</td>\n",
       "      <td>0</td>\n",
       "      <td>16</td>\n",
       "      <td>10</td>\n",
       "      <td>2427427 HOSPITAL BARAO DE LUCENA</td>\n",
       "      <td>2427427</td>\n",
       "    </tr>\n",
       "  </tbody>\n",
       "</table>\n",
       "</div>"
      ],
      "text/plain": [
       "               estabelecimento municipio proced_partos    gestao       lat  \\\n",
       "0  HOSPITAL AGAMENON MAGALHAES    RECIFE           SIM  ESTADUAL -8.030304   \n",
       "1     HOSPITAL BARAO DE LUCENA    RECIFE           SIM  ESTADUAL -8.038482   \n",
       "\n",
       "         lng  obst_cirurg  obst_clinica  uti_neo_i  uti_neo_ii  uti_neo_iii  \\\n",
       "0 -34.907127           62            27          0          15            0   \n",
       "1 -34.938984           61            28         28          18            0   \n",
       "\n",
       "   uci_neo_conv  uci_neo_canguru                      Estabel-CNES PE cd_estab  \n",
       "0            15                8  0000418 HOSPITAL AGAMENON MAGALHAES  0000418  \n",
       "1            16               10     2427427 HOSPITAL BARAO DE LUCENA  2427427  "
      ]
     },
     "execution_count": 11,
     "metadata": {},
     "output_type": "execute_result"
    }
   ],
   "source": [
    "cols_ = ['obst_cirurg','obst_clinica', 'uti_neo_i', 'uti_neo_ii', 'uti_neo_iii', 'uci_neo_conv', 'uci_neo_canguru']\n",
    "df_hosp_leitos2 = df_hosp_leitos.drop('cd_estab', axis=1).merge(df_estab, how='left', on='estabelecimento')\n",
    "df_hosp_leitos2[cols_] = df_hosp_leitos2[cols_].fillna(0).astype(int)\n",
    "df_hosp_leitos2.head(2)"
   ]
  },
  {
   "cell_type": "code",
   "execution_count": 12,
   "metadata": {},
   "outputs": [
    {
     "data": {
      "text/plain": [
       "0.12244897959183673"
      ]
     },
     "execution_count": 12,
     "metadata": {},
     "output_type": "execute_result"
    }
   ],
   "source": [
    "df_hosp_leitos2.cd_estab.isna().sum() / len(df_hosp_leitos2.cd_estab)"
   ]
  },
  {
   "attachments": {},
   "cell_type": "markdown",
   "metadata": {},
   "source": [
    "#### Mapa"
   ]
  },
  {
   "cell_type": "code",
   "execution_count": 20,
   "metadata": {},
   "outputs": [
    {
     "data": {
      "application/vnd.plotly.v1+json": {
       "config": {
        "plotlyServerURL": "https://plot.ly"
       },
       "data": [
        {
         "hovertemplate": "%{hovertext}",
         "hovertext": [
          "<b>HOSPITAL AGAMENON MAGALHAES</b><br>RECIFE<br><br><b>Leitos Obstetrícia</b><br>Cirúgicos: 62 / Clínica: 27<br><br><b>UTI Neo</b><br>Tipo I: 0 / Tipo II: 15 / Tipo III: 0<br><br><b>UCI Neo</b><br>convencional: 15 / Caguru: 8",
          "<b>HOSPITAL BARAO DE LUCENA</b><br>RECIFE<br><br><b>Leitos Obstetrícia</b><br>Cirúgicos: 61 / Clínica: 28<br><br><b>UTI Neo</b><br>Tipo I: 28 / Tipo II: 18 / Tipo III: 0<br><br><b>UCI Neo</b><br>convencional: 16 / Caguru: 10",
          "<b>HOSPITAL BELARMINO CORREIA</b><br>GOIANA<br><br><b>Leitos Obstetrícia</b><br>Cirúgicos: 16 / Clínica: 2<br><br><b>UTI Neo</b><br>Tipo I: 0 / Tipo II: 0 / Tipo III: 0<br><br><b>UCI Neo</b><br>convencional: 0 / Caguru: 0",
          "<b>HOSPITAL DOM MALAN</b><br>PETROLINA<br><br><b>Leitos Obstetrícia</b><br>Cirúgicos: 30 / Clínica: 30<br><br><b>UTI Neo</b><br>Tipo I: 0 / Tipo II: 9 / Tipo III: 0<br><br><b>UCI Neo</b><br>convencional: 27 / Caguru: 8",
          "<b>HOSPITAL ERMIRIO COUTINHO</b><br>NAZARE DA MATA<br><br><b>Leitos Obstetrícia</b><br>Cirúgicos: 0 / Clínica: 0<br><br><b>UTI Neo</b><br>Tipo I: 0 / Tipo II: 0 / Tipo III: 0<br><br><b>UCI Neo</b><br>convencional: 0 / Caguru: 0",
          "<b>HOSPITAL ERMIRIO COUTINHO</b><br>NAZARE DA MATA<br><br><b>Leitos Obstetrícia</b><br>Cirúgicos: 4 / Clínica: 15<br><br><b>UTI Neo</b><br>Tipo I: 0 / Tipo II: 0 / Tipo III: 0<br><br><b>UCI Neo</b><br>convencional: 0 / Caguru: 0",
          "<b>HOSPITAL DE CARUARU JESUS NAZARENO</b><br>CARUARU<br><br><b>Leitos Obstetrícia</b><br>Cirúgicos: 45 / Clínica: 36<br><br><b>UTI Neo</b><br>Tipo I: 0 / Tipo II: 0 / Tipo III: 0<br><br><b>UCI Neo</b><br>convencional: 18 / Caguru: 12",
          "<b>HOSPITAL JOAO MURILO E POLICLINICA DE VITORIA</b><br>VITORIA DE SANTO ANTAO<br><br><b>Leitos Obstetrícia</b><br>Cirúgicos: 7 / Clínica: 28<br><br><b>UTI Neo</b><br>Tipo I: 0 / Tipo II: 10 / Tipo III: 0<br><br><b>UCI Neo</b><br>convencional: 10 / Caguru: 0",
          "<b>HOSPITAL REGIONAL DE PALMARES DR SILVIO MAGALHAES</b><br>PALMARES<br><br><b>Leitos Obstetrícia</b><br>Cirúgicos: 0 / Clínica: 29<br><br><b>UTI Neo</b><br>Tipo I: 0 / Tipo II: 5 / Tipo III: 0<br><br><b>UCI Neo</b><br>convencional: 0 / Caguru: 0",
          "<b>HOSPITAL REGIONAL DOM MOURA</b><br>GARANHUNS<br><br><b>Leitos Obstetrícia</b><br>Cirúgicos: 0 / Clínica: 0<br><br><b>UTI Neo</b><br>Tipo I: 0 / Tipo II: 0 / Tipo III: 0<br><br><b>UCI Neo</b><br>convencional: 0 / Caguru: 0",
          "<b>HOSPITAL REGIONAL DOM MOURA</b><br>GARANHUNS<br><br><b>Leitos Obstetrícia</b><br>Cirúgicos: 10 / Clínica: 12<br><br><b>UTI Neo</b><br>Tipo I: 0 / Tipo II: 0 / Tipo III: 0<br><br><b>UCI Neo</b><br>convencional: 0 / Caguru: 0",
          "<b>HOSPITAL REGIONAL EMILIA CAMARA</b><br>AFOGADOS DA INGAZEIRA<br><br><b>Leitos Obstetrícia</b><br>Cirúgicos: 2 / Clínica: 25<br><br><b>UTI Neo</b><br>Tipo I: 0 / Tipo II: 0 / Tipo III: 0<br><br><b>UCI Neo</b><br>convencional: 0 / Caguru: 0",
          "<b>HOSPITAL REGIONAL FERNANDO BEZERRA</b><br>OURICURI<br><br><b>Leitos Obstetrícia</b><br>Cirúgicos: 0 / Clínica: 0<br><br><b>UTI Neo</b><br>Tipo I: 0 / Tipo II: 0 / Tipo III: 0<br><br><b>UCI Neo</b><br>convencional: 0 / Caguru: 0",
          "<b>HOSPITAL REGIONAL FERNANDO BEZERRA</b><br>OURICURI<br><br><b>Leitos Obstetrícia</b><br>Cirúgicos: 6 / Clínica: 16<br><br><b>UTI Neo</b><br>Tipo I: 0 / Tipo II: 0 / Tipo III: 0<br><br><b>UCI Neo</b><br>convencional: 0 / Caguru: 0",
          "<b>HOSPITAL REGIONAL INACIO DE SA</b><br>SALGUEIRO<br><br><b>Leitos Obstetrícia</b><br>Cirúgicos: 0 / Clínica: 0<br><br><b>UTI Neo</b><br>Tipo I: 0 / Tipo II: 0 / Tipo III: 0<br><br><b>UCI Neo</b><br>convencional: 0 / Caguru: 0",
          "<b>HOSPITAL REGIONAL INACIO DE SA</b><br>SALGUEIRO<br><br><b>Leitos Obstetrícia</b><br>Cirúgicos: 13 / Clínica: 10<br><br><b>UTI Neo</b><br>Tipo I: 0 / Tipo II: 0 / Tipo III: 0<br><br><b>UCI Neo</b><br>convencional: 5 / Caguru: 0",
          "<b>HOSPITAL REGIONAL DE LIMOEIRO JOSE FERNANDES SALSA</b><br>LIMOEIRO<br><br><b>Leitos Obstetrícia</b><br>Cirúgicos: 8 / Clínica: 8<br><br><b>UTI Neo</b><br>Tipo I: 0 / Tipo II: 0 / Tipo III: 0<br><br><b>UCI Neo</b><br>convencional: 0 / Caguru: 0",
          "<b>HOSPITAL PROFESSOR AGAMENON MAGALHAES</b><br>SERRA TALHADA<br><br><b>Leitos Obstetrícia</b><br>Cirúgicos: 8 / Clínica: 3<br><br><b>UTI Neo</b><br>Tipo I: 0 / Tipo II: 0 / Tipo III: 0<br><br><b>UCI Neo</b><br>convencional: 0 / Caguru: 0",
          "<b>HOSPITAL REGIONAL RUY DE BARROS CORREIA</b><br>ARCOVERDE<br><br><b>Leitos Obstetrícia</b><br>Cirúgicos: 11 / Clínica: 18<br><br><b>UTI Neo</b><br>Tipo I: 0 / Tipo II: 0 / Tipo III: 0<br><br><b>UCI Neo</b><br>convencional: 0 / Caguru: 0",
          "<b>CENTRO UNIVERSITARIO INTEGRADO DE SAUDE AMAURY DE MEDEIROS</b><br>RECIFE<br><br><b>Leitos Obstetrícia</b><br>Cirúgicos: 37 / Clínica: 16<br><br><b>UTI Neo</b><br>Tipo I: 0 / Tipo II: 12 / Tipo III: 0<br><br><b>UCI Neo</b><br>convencional: 15 / Caguru: 7",
          "<b>HOSPITAL DAS CLINICAS</b><br>RECIFE<br><br><b>Leitos Obstetrícia</b><br>Cirúgicos: 36 / Clínica: 9<br><br><b>UTI Neo</b><br>Tipo I: 0 / Tipo II: 10 / Tipo III: 0<br><br><b>UCI Neo</b><br>convencional: 5 / Caguru: 0",
          "<b>HOSPITAL MUNICIPAL DE JAQUEIRA MARIA HELENA SILVA DE ANDRADE</b><br>JAQUEIRA<br><br><b>Leitos Obstetrícia</b><br>Cirúgicos: 0 / Clínica: 7<br><br><b>UTI Neo</b><br>Tipo I: 0 / Tipo II: 0 / Tipo III: 0<br><br><b>UCI Neo</b><br>convencional: 0 / Caguru: 0",
          "<b>HOSPITAL MUNICIPAL EULINA DE NOVAES BIONE</b><br>OROCO<br><br><b>Leitos Obstetrícia</b><br>Cirúgicos: 0 / Clínica: 3<br><br><b>UTI Neo</b><br>Tipo I: 0 / Tipo II: 0 / Tipo III: 0<br><br><b>UCI Neo</b><br>convencional: 0 / Caguru: 0",
          "<b>MATERNIDADE ALCIDES CURSINO</b><br>BUIQUE<br><br><b>Leitos Obstetrícia</b><br>Cirúgicos: 0 / Clínica: 0<br><br><b>UTI Neo</b><br>Tipo I: 0 / Tipo II: 0 / Tipo III: 0<br><br><b>UCI Neo</b><br>convencional: 0 / Caguru: 0",
          "<b>MATERNIDADE ALCIDES CURSINO</b><br>BUIQUE<br><br><b>Leitos Obstetrícia</b><br>Cirúgicos: 6 / Clínica: 2<br><br><b>UTI Neo</b><br>Tipo I: 0 / Tipo II: 0 / Tipo III: 0<br><br><b>UCI Neo</b><br>convencional: 0 / Caguru: 0",
          "<b>IBVASF</b><br>PETROLANDIA<br><br><b>Leitos Obstetrícia</b><br>Cirúgicos: 6 / Clínica: 10<br><br><b>UTI Neo</b><br>Tipo I: 0 / Tipo II: 0 / Tipo III: 0<br><br><b>UCI Neo</b><br>convencional: 0 / Caguru: 0",
          "<b>IMIP</b><br>RECIFE<br><br><b>Leitos Obstetrícia</b><br>Cirúgicos: 76 / Clínica: 28<br><br><b>UTI Neo</b><br>Tipo I: 0 / Tipo II: 0 / Tipo III: 18<br><br><b>UCI Neo</b><br>convencional: 0 / Caguru: 0",
          "<b>PRONTO SOCORRO SAO FRANCISCO LTDA</b><br>SALGUEIRO<br><br><b>Leitos Obstetrícia</b><br>Cirúgicos: 0 / Clínica: 0<br><br><b>UTI Neo</b><br>Tipo I: 0 / Tipo II: 0 / Tipo III: 0<br><br><b>UCI Neo</b><br>convencional: 0 / Caguru: 0",
          "<b>PRONTO SOCORRO SAO FRANCISCO LTDA</b><br>SALGUEIRO<br><br><b>Leitos Obstetrícia</b><br>Cirúgicos: 0 / Clínica: 0<br><br><b>UTI Neo</b><br>Tipo I: 0 / Tipo II: 0 / Tipo III: 0<br><br><b>UCI Neo</b><br>convencional: 0 / Caguru: 0",
          "<b>PRONTO SOCORRO SAO FRANCISCO LTDA</b><br>SALGUEIRO<br><br><b>Leitos Obstetrícia</b><br>Cirúgicos: 4 / Clínica: 0<br><br><b>UTI Neo</b><br>Tipo I: 0 / Tipo II: 0 / Tipo III: 0<br><br><b>UCI Neo</b><br>convencional: 0 / Caguru: 0"
         ],
         "lat": [
          -8.030303955078125,
          -8.038481712341309,
          -7.558028221130371,
          -9.394730567932129,
          -7.744135856628418,
          -7.744135856628418,
          -8.270162582397461,
          -8.11350154876709,
          -8.686700820922852,
          -8.882495880126953,
          -8.882495880126953,
          -7.7374725341796875,
          -7.883040904998779,
          -7.883040904998779,
          -8.057869911193848,
          -8.057869911193848,
          -7.881453990936279,
          -7.98884391784668,
          -8.422281265258789,
          -8.037784576416016,
          -8.04743480682373,
          -8.731579780578613,
          -8.620566368103027,
          -8.620657920837402,
          -8.620657920837402,
          -8.972020149230957,
          -8.066906929016113,
          -8.072993278503418,
          -8.072993278503418,
          -8.072993278503418
         ],
         "lon": [
          -34.907127380371094,
          -34.93898391723633,
          -35.002708435058594,
          -40.499603271484375,
          -35.22877502441406,
          -35.22877502441406,
          -35.97416305541992,
          -35.28709030151367,
          -35.57508850097656,
          -36.483577728271484,
          -36.483577728271484,
          -37.65068817138672,
          -40.08453369140625,
          -40.08453369140625,
          -39.11371612548828,
          -39.11371612548828,
          -35.449073791503906,
          -38.299049377441406,
          -37.054927825927734,
          -34.88824462890625,
          -34.94631576538086,
          -35.80393981933594,
          -39.601287841796875,
          -37.155914306640625,
          -37.155914306640625,
          -38.21726989746094,
          -34.89027404785156,
          -39.123504638671875,
          -39.123504638671875,
          -39.123504638671875
         ],
         "marker": {
          "size": 13
         },
         "mode": "markers",
         "name": "COM leitos obst.",
         "type": "scattermapbox"
        },
        {
         "hovertemplate": "%{hovertext}",
         "hovertext": [
          "<b>HOSPITAL COLONIA PROFESSOR ALCIDES CODECEIRA (ATIVIDADES ENCERRADAS)</b><br>IGARASSU<br><br><b>Leitos Obstetrícia</b><br>Cirúgicos: 0 / Clínica: 0<br><br><b>UTI Neo</b><br>Tipo I: 0 / Tipo II: 0 / Tipo III: 0<br><br><b>UCI Neo</b><br>convencional: 0 / Caguru: 0",
          "<b>HOSPITAL CORREIA PICANCO</b><br>RECIFE<br><br><b>Leitos Obstetrícia</b><br>Cirúgicos: 0 / Clínica: 0<br><br><b>UTI Neo</b><br>Tipo I: 0 / Tipo II: 0 / Tipo III: 0<br><br><b>UCI Neo</b><br>convencional: 0 / Caguru: 0",
          "<b>HOSPITAL DA RESTAURACAO</b><br>RECIFE<br><br><b>Leitos Obstetrícia</b><br>Cirúgicos: 0 / Clínica: 0<br><br><b>UTI Neo</b><br>Tipo I: 0 / Tipo II: 0 / Tipo III: 0<br><br><b>UCI Neo</b><br>convencional: 0 / Caguru: 0",
          "<b>HOSPITAL GERAL DA MIRUEIRA (SANATORIO PADRE ANTONIO MANUEL)</b><br>PAULISTA<br><br><b>Leitos Obstetrícia</b><br>Cirúgicos: 0 / Clínica: 0<br><br><b>UTI Neo</b><br>Tipo I: 0 / Tipo II: 0 / Tipo III: 0<br><br><b>UCI Neo</b><br>convencional: 0 / Caguru: 0",
          "<b>HOSPITAL GERAL DE AREIAS</b><br>RECIFE<br><br><b>Leitos Obstetrícia</b><br>Cirúgicos: 0 / Clínica: 0<br><br><b>UTI Neo</b><br>Tipo I: 0 / Tipo II: 0 / Tipo III: 0<br><br><b>UCI Neo</b><br>convencional: 0 / Caguru: 0",
          "<b>HOSPITAL GERAL DE AREIAS</b><br>RECIFE<br><br><b>Leitos Obstetrícia</b><br>Cirúgicos: 0 / Clínica: 0<br><br><b>UTI Neo</b><br>Tipo I: 0 / Tipo II: 0 / Tipo III: 0<br><br><b>UCI Neo</b><br>convencional: 0 / Caguru: 0",
          "<b>HOSPITAL GETULIO VARGAS</b><br>RECIFE<br><br><b>Leitos Obstetrícia</b><br>Cirúgicos: 0 / Clínica: 0<br><br><b>UTI Neo</b><br>Tipo I: 0 / Tipo II: 0 / Tipo III: 0<br><br><b>UCI Neo</b><br>convencional: 0 / Caguru: 0",
          "<b>HOSPITAL GETULIO VARGAS</b><br>RECIFE<br><br><b>Leitos Obstetrícia</b><br>Cirúgicos: 0 / Clínica: 0<br><br><b>UTI Neo</b><br>Tipo I: 0 / Tipo II: 0 / Tipo III: 0<br><br><b>UCI Neo</b><br>convencional: 0 / Caguru: 0",
          "<b>HOSPITAL JABOATAO PRAZERES</b><br>JABOATAO DOS GUARARAPES<br><br><b>Leitos Obstetrícia</b><br>Cirúgicos: 0 / Clínica: 0<br><br><b>UTI Neo</b><br>Tipo I: 0 / Tipo II: 0 / Tipo III: 0<br><br><b>UCI Neo</b><br>convencional: 0 / Caguru: 0",
          "<b>HOSPITAL METROPOLITANO NORTE - MIGUEL ARRAES DE ALENCAR</b><br>PAULISTA<br><br><b>Leitos Obstetrícia</b><br>Cirúgicos: 0 / Clínica: 0<br><br><b>UTI Neo</b><br>Tipo I: 0 / Tipo II: 0 / Tipo III: 0<br><br><b>UCI Neo</b><br>convencional: 0 / Caguru: 0",
          "<b>HOSPITAL METROPOLITANO OESTE - PELOPIDAS SILVEIRA</b><br>RECIFE<br><br><b>Leitos Obstetrícia</b><br>Cirúgicos: 0 / Clínica: 0<br><br><b>UTI Neo</b><br>Tipo I: 0 / Tipo II: 0 / Tipo III: 0<br><br><b>UCI Neo</b><br>convencional: 0 / Caguru: 0",
          "<b>HOSPITAL METROPOLITANO SUL - DOM HELDER CAMARA</b><br>CABO DE SANTO AGOSTINHO<br><br><b>Leitos Obstetrícia</b><br>Cirúgicos: 0 / Clínica: 0<br><br><b>UTI Neo</b><br>Tipo I: 0 / Tipo II: 0 / Tipo III: 0<br><br><b>UCI Neo</b><br>convencional: 0 / Caguru: 0",
          "<b>HOSPITAL OTAVIO DE FREITAS</b><br>RECIFE<br><br><b>Leitos Obstetrícia</b><br>Cirúgicos: 0 / Clínica: 0<br><br><b>UTI Neo</b><br>Tipo I: 0 / Tipo II: 0 / Tipo III: 0<br><br><b>UCI Neo</b><br>convencional: 0 / Caguru: 0",
          "<b>HOSPITAL PSIQUIATRICO ULYSSES PERNAMBUCANO</b><br>RECIFE<br><br><b>Leitos Obstetrícia</b><br>Cirúgicos: 0 / Clínica: 0<br><br><b>UTI Neo</b><br>Tipo I: 0 / Tipo II: 0 / Tipo III: 0<br><br><b>UCI Neo</b><br>convencional: 0 / Caguru: 0",
          "<b>HOSPITAL SAO LUCAS</b><br>FERNANDO DE NORONHA<br><br><b>Leitos Obstetrícia</b><br>Cirúgicos: 0 / Clínica: 0<br><br><b>UTI Neo</b><br>Tipo I: 0 / Tipo II: 0 / Tipo III: 0<br><br><b>UCI Neo</b><br>convencional: 0 / Caguru: 0",
          "<b>HOSPITAL MESTRE VITALINO</b><br>CARUARU<br><br><b>Leitos Obstetrícia</b><br>Cirúgicos: 0 / Clínica: 0<br><br><b>UTI Neo</b><br>Tipo I: 0 / Tipo II: 0 / Tipo III: 0<br><br><b>UCI Neo</b><br>convencional: 0 / Caguru: 0",
          "<b>HOSPITAL REGIONAL DO AGRESTE DR. WALDEMIRO FERREIRA</b><br>CARUARU<br><br><b>Leitos Obstetrícia</b><br>Cirúgicos: 0 / Clínica: 0<br><br><b>UTI Neo</b><br>Tipo I: 0 / Tipo II: 0 / Tipo III: 0<br><br><b>UCI Neo</b><br>convencional: 0 / Caguru: 0",
          "<b>HOSPITAL SAO SEBASTIAO</b><br>CARUARU<br><br><b>Leitos Obstetrícia</b><br>Cirúgicos: 2 / Clínica: 2<br><br><b>UTI Neo</b><br>Tipo I: 0 / Tipo II: 0 / Tipo III: 0<br><br><b>UCI Neo</b><br>convencional: 0 / Caguru: 0",
          "<b>HOSPITAL SAO SEBASTIAO</b><br>CARUARU<br><br><b>Leitos Obstetrícia</b><br>Cirúgicos: 0 / Clínica: 0<br><br><b>UTI Neo</b><br>Tipo I: 0 / Tipo II: 0 / Tipo III: 0<br><br><b>UCI Neo</b><br>convencional: 0 / Caguru: 0"
         ],
         "lat": [
          -7.86734676361084,
          -8.033934593200684,
          -8.053504943847656,
          -7.968411922454834,
          -8.100144386291504,
          -8.100144386291504,
          -8.051260948181152,
          -8.051260948181152,
          -8.16614818572998,
          -7.920229434967041,
          -8.072649002075195,
          -8.250707626342773,
          -8.085956573486328,
          -8.03394603729248,
          -3.8456618785858154,
          -8.245341300964355,
          -8.307584762573242,
          -8.279977798461914,
          -8.279977798461914
         ],
         "lon": [
          -34.91043472290039,
          -34.90474319458008,
          -34.89773941040039,
          -34.89338684082031,
          -34.92640686035156,
          -34.92640686035156,
          -34.92224884033203,
          -34.92224884033203,
          -34.92361831665039,
          -34.89103698730469,
          -34.95010757446289,
          -35.009456634521484,
          -34.962162017822266,
          -34.90214920043945,
          -32.41059875488281,
          -35.97422409057617,
          -35.96814727783203,
          -35.97120666503906,
          -35.97120666503906
         ],
         "marker": {
          "size": 14
         },
         "mode": "markers",
         "name": "SEM leitos obst.",
         "type": "scattermapbox"
        }
       ],
       "layout": {
        "mapbox": {
         "center": {
          "lat": -8.5517,
          "lon": -37.7073
         },
         "style": "carto-positron",
         "zoom": 6
        },
        "template": {
         "data": {
          "bar": [
           {
            "error_x": {
             "color": "#2a3f5f"
            },
            "error_y": {
             "color": "#2a3f5f"
            },
            "marker": {
             "line": {
              "color": "#E5ECF6",
              "width": 0.5
             },
             "pattern": {
              "fillmode": "overlay",
              "size": 10,
              "solidity": 0.2
             }
            },
            "type": "bar"
           }
          ],
          "barpolar": [
           {
            "marker": {
             "line": {
              "color": "#E5ECF6",
              "width": 0.5
             },
             "pattern": {
              "fillmode": "overlay",
              "size": 10,
              "solidity": 0.2
             }
            },
            "type": "barpolar"
           }
          ],
          "carpet": [
           {
            "aaxis": {
             "endlinecolor": "#2a3f5f",
             "gridcolor": "white",
             "linecolor": "white",
             "minorgridcolor": "white",
             "startlinecolor": "#2a3f5f"
            },
            "baxis": {
             "endlinecolor": "#2a3f5f",
             "gridcolor": "white",
             "linecolor": "white",
             "minorgridcolor": "white",
             "startlinecolor": "#2a3f5f"
            },
            "type": "carpet"
           }
          ],
          "choropleth": [
           {
            "colorbar": {
             "outlinewidth": 0,
             "ticks": ""
            },
            "type": "choropleth"
           }
          ],
          "contour": [
           {
            "colorbar": {
             "outlinewidth": 0,
             "ticks": ""
            },
            "colorscale": [
             [
              0,
              "#0d0887"
             ],
             [
              0.1111111111111111,
              "#46039f"
             ],
             [
              0.2222222222222222,
              "#7201a8"
             ],
             [
              0.3333333333333333,
              "#9c179e"
             ],
             [
              0.4444444444444444,
              "#bd3786"
             ],
             [
              0.5555555555555556,
              "#d8576b"
             ],
             [
              0.6666666666666666,
              "#ed7953"
             ],
             [
              0.7777777777777778,
              "#fb9f3a"
             ],
             [
              0.8888888888888888,
              "#fdca26"
             ],
             [
              1,
              "#f0f921"
             ]
            ],
            "type": "contour"
           }
          ],
          "contourcarpet": [
           {
            "colorbar": {
             "outlinewidth": 0,
             "ticks": ""
            },
            "type": "contourcarpet"
           }
          ],
          "heatmap": [
           {
            "colorbar": {
             "outlinewidth": 0,
             "ticks": ""
            },
            "colorscale": [
             [
              0,
              "#0d0887"
             ],
             [
              0.1111111111111111,
              "#46039f"
             ],
             [
              0.2222222222222222,
              "#7201a8"
             ],
             [
              0.3333333333333333,
              "#9c179e"
             ],
             [
              0.4444444444444444,
              "#bd3786"
             ],
             [
              0.5555555555555556,
              "#d8576b"
             ],
             [
              0.6666666666666666,
              "#ed7953"
             ],
             [
              0.7777777777777778,
              "#fb9f3a"
             ],
             [
              0.8888888888888888,
              "#fdca26"
             ],
             [
              1,
              "#f0f921"
             ]
            ],
            "type": "heatmap"
           }
          ],
          "heatmapgl": [
           {
            "colorbar": {
             "outlinewidth": 0,
             "ticks": ""
            },
            "colorscale": [
             [
              0,
              "#0d0887"
             ],
             [
              0.1111111111111111,
              "#46039f"
             ],
             [
              0.2222222222222222,
              "#7201a8"
             ],
             [
              0.3333333333333333,
              "#9c179e"
             ],
             [
              0.4444444444444444,
              "#bd3786"
             ],
             [
              0.5555555555555556,
              "#d8576b"
             ],
             [
              0.6666666666666666,
              "#ed7953"
             ],
             [
              0.7777777777777778,
              "#fb9f3a"
             ],
             [
              0.8888888888888888,
              "#fdca26"
             ],
             [
              1,
              "#f0f921"
             ]
            ],
            "type": "heatmapgl"
           }
          ],
          "histogram": [
           {
            "marker": {
             "pattern": {
              "fillmode": "overlay",
              "size": 10,
              "solidity": 0.2
             }
            },
            "type": "histogram"
           }
          ],
          "histogram2d": [
           {
            "colorbar": {
             "outlinewidth": 0,
             "ticks": ""
            },
            "colorscale": [
             [
              0,
              "#0d0887"
             ],
             [
              0.1111111111111111,
              "#46039f"
             ],
             [
              0.2222222222222222,
              "#7201a8"
             ],
             [
              0.3333333333333333,
              "#9c179e"
             ],
             [
              0.4444444444444444,
              "#bd3786"
             ],
             [
              0.5555555555555556,
              "#d8576b"
             ],
             [
              0.6666666666666666,
              "#ed7953"
             ],
             [
              0.7777777777777778,
              "#fb9f3a"
             ],
             [
              0.8888888888888888,
              "#fdca26"
             ],
             [
              1,
              "#f0f921"
             ]
            ],
            "type": "histogram2d"
           }
          ],
          "histogram2dcontour": [
           {
            "colorbar": {
             "outlinewidth": 0,
             "ticks": ""
            },
            "colorscale": [
             [
              0,
              "#0d0887"
             ],
             [
              0.1111111111111111,
              "#46039f"
             ],
             [
              0.2222222222222222,
              "#7201a8"
             ],
             [
              0.3333333333333333,
              "#9c179e"
             ],
             [
              0.4444444444444444,
              "#bd3786"
             ],
             [
              0.5555555555555556,
              "#d8576b"
             ],
             [
              0.6666666666666666,
              "#ed7953"
             ],
             [
              0.7777777777777778,
              "#fb9f3a"
             ],
             [
              0.8888888888888888,
              "#fdca26"
             ],
             [
              1,
              "#f0f921"
             ]
            ],
            "type": "histogram2dcontour"
           }
          ],
          "mesh3d": [
           {
            "colorbar": {
             "outlinewidth": 0,
             "ticks": ""
            },
            "type": "mesh3d"
           }
          ],
          "parcoords": [
           {
            "line": {
             "colorbar": {
              "outlinewidth": 0,
              "ticks": ""
             }
            },
            "type": "parcoords"
           }
          ],
          "pie": [
           {
            "automargin": true,
            "type": "pie"
           }
          ],
          "scatter": [
           {
            "fillpattern": {
             "fillmode": "overlay",
             "size": 10,
             "solidity": 0.2
            },
            "type": "scatter"
           }
          ],
          "scatter3d": [
           {
            "line": {
             "colorbar": {
              "outlinewidth": 0,
              "ticks": ""
             }
            },
            "marker": {
             "colorbar": {
              "outlinewidth": 0,
              "ticks": ""
             }
            },
            "type": "scatter3d"
           }
          ],
          "scattercarpet": [
           {
            "marker": {
             "colorbar": {
              "outlinewidth": 0,
              "ticks": ""
             }
            },
            "type": "scattercarpet"
           }
          ],
          "scattergeo": [
           {
            "marker": {
             "colorbar": {
              "outlinewidth": 0,
              "ticks": ""
             }
            },
            "type": "scattergeo"
           }
          ],
          "scattergl": [
           {
            "marker": {
             "colorbar": {
              "outlinewidth": 0,
              "ticks": ""
             }
            },
            "type": "scattergl"
           }
          ],
          "scattermapbox": [
           {
            "marker": {
             "colorbar": {
              "outlinewidth": 0,
              "ticks": ""
             }
            },
            "type": "scattermapbox"
           }
          ],
          "scatterpolar": [
           {
            "marker": {
             "colorbar": {
              "outlinewidth": 0,
              "ticks": ""
             }
            },
            "type": "scatterpolar"
           }
          ],
          "scatterpolargl": [
           {
            "marker": {
             "colorbar": {
              "outlinewidth": 0,
              "ticks": ""
             }
            },
            "type": "scatterpolargl"
           }
          ],
          "scatterternary": [
           {
            "marker": {
             "colorbar": {
              "outlinewidth": 0,
              "ticks": ""
             }
            },
            "type": "scatterternary"
           }
          ],
          "surface": [
           {
            "colorbar": {
             "outlinewidth": 0,
             "ticks": ""
            },
            "colorscale": [
             [
              0,
              "#0d0887"
             ],
             [
              0.1111111111111111,
              "#46039f"
             ],
             [
              0.2222222222222222,
              "#7201a8"
             ],
             [
              0.3333333333333333,
              "#9c179e"
             ],
             [
              0.4444444444444444,
              "#bd3786"
             ],
             [
              0.5555555555555556,
              "#d8576b"
             ],
             [
              0.6666666666666666,
              "#ed7953"
             ],
             [
              0.7777777777777778,
              "#fb9f3a"
             ],
             [
              0.8888888888888888,
              "#fdca26"
             ],
             [
              1,
              "#f0f921"
             ]
            ],
            "type": "surface"
           }
          ],
          "table": [
           {
            "cells": {
             "fill": {
              "color": "#EBF0F8"
             },
             "line": {
              "color": "white"
             }
            },
            "header": {
             "fill": {
              "color": "#C8D4E3"
             },
             "line": {
              "color": "white"
             }
            },
            "type": "table"
           }
          ]
         },
         "layout": {
          "annotationdefaults": {
           "arrowcolor": "#2a3f5f",
           "arrowhead": 0,
           "arrowwidth": 1
          },
          "autotypenumbers": "strict",
          "coloraxis": {
           "colorbar": {
            "outlinewidth": 0,
            "ticks": ""
           }
          },
          "colorscale": {
           "diverging": [
            [
             0,
             "#8e0152"
            ],
            [
             0.1,
             "#c51b7d"
            ],
            [
             0.2,
             "#de77ae"
            ],
            [
             0.3,
             "#f1b6da"
            ],
            [
             0.4,
             "#fde0ef"
            ],
            [
             0.5,
             "#f7f7f7"
            ],
            [
             0.6,
             "#e6f5d0"
            ],
            [
             0.7,
             "#b8e186"
            ],
            [
             0.8,
             "#7fbc41"
            ],
            [
             0.9,
             "#4d9221"
            ],
            [
             1,
             "#276419"
            ]
           ],
           "sequential": [
            [
             0,
             "#0d0887"
            ],
            [
             0.1111111111111111,
             "#46039f"
            ],
            [
             0.2222222222222222,
             "#7201a8"
            ],
            [
             0.3333333333333333,
             "#9c179e"
            ],
            [
             0.4444444444444444,
             "#bd3786"
            ],
            [
             0.5555555555555556,
             "#d8576b"
            ],
            [
             0.6666666666666666,
             "#ed7953"
            ],
            [
             0.7777777777777778,
             "#fb9f3a"
            ],
            [
             0.8888888888888888,
             "#fdca26"
            ],
            [
             1,
             "#f0f921"
            ]
           ],
           "sequentialminus": [
            [
             0,
             "#0d0887"
            ],
            [
             0.1111111111111111,
             "#46039f"
            ],
            [
             0.2222222222222222,
             "#7201a8"
            ],
            [
             0.3333333333333333,
             "#9c179e"
            ],
            [
             0.4444444444444444,
             "#bd3786"
            ],
            [
             0.5555555555555556,
             "#d8576b"
            ],
            [
             0.6666666666666666,
             "#ed7953"
            ],
            [
             0.7777777777777778,
             "#fb9f3a"
            ],
            [
             0.8888888888888888,
             "#fdca26"
            ],
            [
             1,
             "#f0f921"
            ]
           ]
          },
          "colorway": [
           "#636efa",
           "#EF553B",
           "#00cc96",
           "#ab63fa",
           "#FFA15A",
           "#19d3f3",
           "#FF6692",
           "#B6E880",
           "#FF97FF",
           "#FECB52"
          ],
          "font": {
           "color": "#2a3f5f"
          },
          "geo": {
           "bgcolor": "white",
           "lakecolor": "white",
           "landcolor": "#E5ECF6",
           "showlakes": true,
           "showland": true,
           "subunitcolor": "white"
          },
          "hoverlabel": {
           "align": "left"
          },
          "hovermode": "closest",
          "mapbox": {
           "style": "light"
          },
          "paper_bgcolor": "white",
          "plot_bgcolor": "#E5ECF6",
          "polar": {
           "angularaxis": {
            "gridcolor": "white",
            "linecolor": "white",
            "ticks": ""
           },
           "bgcolor": "#E5ECF6",
           "radialaxis": {
            "gridcolor": "white",
            "linecolor": "white",
            "ticks": ""
           }
          },
          "scene": {
           "xaxis": {
            "backgroundcolor": "#E5ECF6",
            "gridcolor": "white",
            "gridwidth": 2,
            "linecolor": "white",
            "showbackground": true,
            "ticks": "",
            "zerolinecolor": "white"
           },
           "yaxis": {
            "backgroundcolor": "#E5ECF6",
            "gridcolor": "white",
            "gridwidth": 2,
            "linecolor": "white",
            "showbackground": true,
            "ticks": "",
            "zerolinecolor": "white"
           },
           "zaxis": {
            "backgroundcolor": "#E5ECF6",
            "gridcolor": "white",
            "gridwidth": 2,
            "linecolor": "white",
            "showbackground": true,
            "ticks": "",
            "zerolinecolor": "white"
           }
          },
          "shapedefaults": {
           "line": {
            "color": "#2a3f5f"
           }
          },
          "ternary": {
           "aaxis": {
            "gridcolor": "white",
            "linecolor": "white",
            "ticks": ""
           },
           "baxis": {
            "gridcolor": "white",
            "linecolor": "white",
            "ticks": ""
           },
           "bgcolor": "#E5ECF6",
           "caxis": {
            "gridcolor": "white",
            "linecolor": "white",
            "ticks": ""
           }
          },
          "title": {
           "x": 0.05
          },
          "xaxis": {
           "automargin": true,
           "gridcolor": "white",
           "linecolor": "white",
           "ticks": "",
           "title": {
            "standoff": 15
           },
           "zerolinecolor": "white",
           "zerolinewidth": 2
          },
          "yaxis": {
           "automargin": true,
           "gridcolor": "white",
           "linecolor": "white",
           "ticks": "",
           "title": {
            "standoff": 15
           },
           "zerolinecolor": "white",
           "zerolinewidth": 2
          }
         }
        },
        "title": {
         "text": "Estabelecimentos/Hospitais"
        }
       }
      },
      "text/html": [
       "<div>                            <div id=\"91f729ca-c456-4ac6-a01c-5e1b4311832b\" class=\"plotly-graph-div\" style=\"height:525px; width:100%;\"></div>            <script type=\"text/javascript\">                require([\"plotly\"], function(Plotly) {                    window.PLOTLYENV=window.PLOTLYENV || {};                                    if (document.getElementById(\"91f729ca-c456-4ac6-a01c-5e1b4311832b\")) {                    Plotly.newPlot(                        \"91f729ca-c456-4ac6-a01c-5e1b4311832b\",                        [{\"hovertemplate\":\"%{hovertext}\",\"hovertext\":[\"<b>HOSPITAL AGAMENON MAGALHAES</b><br>RECIFE<br><br><b>Leitos Obstetr\\u00edcia</b><br>Cir\\u00fagicos: 62 / Cl\\u00ednica: 27<br><br><b>UTI Neo</b><br>Tipo I: 0 / Tipo II: 15 / Tipo III: 0<br><br><b>UCI Neo</b><br>convencional: 15 / Caguru: 8\",\"<b>HOSPITAL BARAO DE LUCENA</b><br>RECIFE<br><br><b>Leitos Obstetr\\u00edcia</b><br>Cir\\u00fagicos: 61 / Cl\\u00ednica: 28<br><br><b>UTI Neo</b><br>Tipo I: 28 / Tipo II: 18 / Tipo III: 0<br><br><b>UCI Neo</b><br>convencional: 16 / Caguru: 10\",\"<b>HOSPITAL BELARMINO CORREIA</b><br>GOIANA<br><br><b>Leitos Obstetr\\u00edcia</b><br>Cir\\u00fagicos: 16 / Cl\\u00ednica: 2<br><br><b>UTI Neo</b><br>Tipo I: 0 / Tipo II: 0 / Tipo III: 0<br><br><b>UCI Neo</b><br>convencional: 0 / Caguru: 0\",\"<b>HOSPITAL DOM MALAN</b><br>PETROLINA<br><br><b>Leitos Obstetr\\u00edcia</b><br>Cir\\u00fagicos: 30 / Cl\\u00ednica: 30<br><br><b>UTI Neo</b><br>Tipo I: 0 / Tipo II: 9 / Tipo III: 0<br><br><b>UCI Neo</b><br>convencional: 27 / Caguru: 8\",\"<b>HOSPITAL ERMIRIO COUTINHO</b><br>NAZARE DA MATA<br><br><b>Leitos Obstetr\\u00edcia</b><br>Cir\\u00fagicos: 0 / Cl\\u00ednica: 0<br><br><b>UTI Neo</b><br>Tipo I: 0 / Tipo II: 0 / Tipo III: 0<br><br><b>UCI Neo</b><br>convencional: 0 / Caguru: 0\",\"<b>HOSPITAL ERMIRIO COUTINHO</b><br>NAZARE DA MATA<br><br><b>Leitos Obstetr\\u00edcia</b><br>Cir\\u00fagicos: 4 / Cl\\u00ednica: 15<br><br><b>UTI Neo</b><br>Tipo I: 0 / Tipo II: 0 / Tipo III: 0<br><br><b>UCI Neo</b><br>convencional: 0 / Caguru: 0\",\"<b>HOSPITAL DE CARUARU JESUS NAZARENO</b><br>CARUARU<br><br><b>Leitos Obstetr\\u00edcia</b><br>Cir\\u00fagicos: 45 / Cl\\u00ednica: 36<br><br><b>UTI Neo</b><br>Tipo I: 0 / Tipo II: 0 / Tipo III: 0<br><br><b>UCI Neo</b><br>convencional: 18 / Caguru: 12\",\"<b>HOSPITAL JOAO MURILO E POLICLINICA DE VITORIA</b><br>VITORIA DE SANTO ANTAO<br><br><b>Leitos Obstetr\\u00edcia</b><br>Cir\\u00fagicos: 7 / Cl\\u00ednica: 28<br><br><b>UTI Neo</b><br>Tipo I: 0 / Tipo II: 10 / Tipo III: 0<br><br><b>UCI Neo</b><br>convencional: 10 / Caguru: 0\",\"<b>HOSPITAL REGIONAL DE PALMARES DR SILVIO MAGALHAES</b><br>PALMARES<br><br><b>Leitos Obstetr\\u00edcia</b><br>Cir\\u00fagicos: 0 / Cl\\u00ednica: 29<br><br><b>UTI Neo</b><br>Tipo I: 0 / Tipo II: 5 / Tipo III: 0<br><br><b>UCI Neo</b><br>convencional: 0 / Caguru: 0\",\"<b>HOSPITAL REGIONAL DOM MOURA</b><br>GARANHUNS<br><br><b>Leitos Obstetr\\u00edcia</b><br>Cir\\u00fagicos: 0 / Cl\\u00ednica: 0<br><br><b>UTI Neo</b><br>Tipo I: 0 / Tipo II: 0 / Tipo III: 0<br><br><b>UCI Neo</b><br>convencional: 0 / Caguru: 0\",\"<b>HOSPITAL REGIONAL DOM MOURA</b><br>GARANHUNS<br><br><b>Leitos Obstetr\\u00edcia</b><br>Cir\\u00fagicos: 10 / Cl\\u00ednica: 12<br><br><b>UTI Neo</b><br>Tipo I: 0 / Tipo II: 0 / Tipo III: 0<br><br><b>UCI Neo</b><br>convencional: 0 / Caguru: 0\",\"<b>HOSPITAL REGIONAL EMILIA CAMARA</b><br>AFOGADOS DA INGAZEIRA<br><br><b>Leitos Obstetr\\u00edcia</b><br>Cir\\u00fagicos: 2 / Cl\\u00ednica: 25<br><br><b>UTI Neo</b><br>Tipo I: 0 / Tipo II: 0 / Tipo III: 0<br><br><b>UCI Neo</b><br>convencional: 0 / Caguru: 0\",\"<b>HOSPITAL REGIONAL FERNANDO BEZERRA</b><br>OURICURI<br><br><b>Leitos Obstetr\\u00edcia</b><br>Cir\\u00fagicos: 0 / Cl\\u00ednica: 0<br><br><b>UTI Neo</b><br>Tipo I: 0 / Tipo II: 0 / Tipo III: 0<br><br><b>UCI Neo</b><br>convencional: 0 / Caguru: 0\",\"<b>HOSPITAL REGIONAL FERNANDO BEZERRA</b><br>OURICURI<br><br><b>Leitos Obstetr\\u00edcia</b><br>Cir\\u00fagicos: 6 / Cl\\u00ednica: 16<br><br><b>UTI Neo</b><br>Tipo I: 0 / Tipo II: 0 / Tipo III: 0<br><br><b>UCI Neo</b><br>convencional: 0 / Caguru: 0\",\"<b>HOSPITAL REGIONAL INACIO DE SA</b><br>SALGUEIRO<br><br><b>Leitos Obstetr\\u00edcia</b><br>Cir\\u00fagicos: 0 / Cl\\u00ednica: 0<br><br><b>UTI Neo</b><br>Tipo I: 0 / Tipo II: 0 / Tipo III: 0<br><br><b>UCI Neo</b><br>convencional: 0 / Caguru: 0\",\"<b>HOSPITAL REGIONAL INACIO DE SA</b><br>SALGUEIRO<br><br><b>Leitos Obstetr\\u00edcia</b><br>Cir\\u00fagicos: 13 / Cl\\u00ednica: 10<br><br><b>UTI Neo</b><br>Tipo I: 0 / Tipo II: 0 / Tipo III: 0<br><br><b>UCI Neo</b><br>convencional: 5 / Caguru: 0\",\"<b>HOSPITAL REGIONAL DE LIMOEIRO JOSE FERNANDES SALSA</b><br>LIMOEIRO<br><br><b>Leitos Obstetr\\u00edcia</b><br>Cir\\u00fagicos: 8 / Cl\\u00ednica: 8<br><br><b>UTI Neo</b><br>Tipo I: 0 / Tipo II: 0 / Tipo III: 0<br><br><b>UCI Neo</b><br>convencional: 0 / Caguru: 0\",\"<b>HOSPITAL PROFESSOR AGAMENON MAGALHAES</b><br>SERRA TALHADA<br><br><b>Leitos Obstetr\\u00edcia</b><br>Cir\\u00fagicos: 8 / Cl\\u00ednica: 3<br><br><b>UTI Neo</b><br>Tipo I: 0 / Tipo II: 0 / Tipo III: 0<br><br><b>UCI Neo</b><br>convencional: 0 / Caguru: 0\",\"<b>HOSPITAL REGIONAL RUY DE BARROS CORREIA</b><br>ARCOVERDE<br><br><b>Leitos Obstetr\\u00edcia</b><br>Cir\\u00fagicos: 11 / Cl\\u00ednica: 18<br><br><b>UTI Neo</b><br>Tipo I: 0 / Tipo II: 0 / Tipo III: 0<br><br><b>UCI Neo</b><br>convencional: 0 / Caguru: 0\",\"<b>CENTRO UNIVERSITARIO INTEGRADO DE SAUDE AMAURY DE MEDEIROS</b><br>RECIFE<br><br><b>Leitos Obstetr\\u00edcia</b><br>Cir\\u00fagicos: 37 / Cl\\u00ednica: 16<br><br><b>UTI Neo</b><br>Tipo I: 0 / Tipo II: 12 / Tipo III: 0<br><br><b>UCI Neo</b><br>convencional: 15 / Caguru: 7\",\"<b>HOSPITAL DAS CLINICAS</b><br>RECIFE<br><br><b>Leitos Obstetr\\u00edcia</b><br>Cir\\u00fagicos: 36 / Cl\\u00ednica: 9<br><br><b>UTI Neo</b><br>Tipo I: 0 / Tipo II: 10 / Tipo III: 0<br><br><b>UCI Neo</b><br>convencional: 5 / Caguru: 0\",\"<b>HOSPITAL MUNICIPAL DE JAQUEIRA MARIA HELENA SILVA DE ANDRADE</b><br>JAQUEIRA<br><br><b>Leitos Obstetr\\u00edcia</b><br>Cir\\u00fagicos: 0 / Cl\\u00ednica: 7<br><br><b>UTI Neo</b><br>Tipo I: 0 / Tipo II: 0 / Tipo III: 0<br><br><b>UCI Neo</b><br>convencional: 0 / Caguru: 0\",\"<b>HOSPITAL MUNICIPAL EULINA DE NOVAES BIONE</b><br>OROCO<br><br><b>Leitos Obstetr\\u00edcia</b><br>Cir\\u00fagicos: 0 / Cl\\u00ednica: 3<br><br><b>UTI Neo</b><br>Tipo I: 0 / Tipo II: 0 / Tipo III: 0<br><br><b>UCI Neo</b><br>convencional: 0 / Caguru: 0\",\"<b>MATERNIDADE ALCIDES CURSINO</b><br>BUIQUE<br><br><b>Leitos Obstetr\\u00edcia</b><br>Cir\\u00fagicos: 0 / Cl\\u00ednica: 0<br><br><b>UTI Neo</b><br>Tipo I: 0 / Tipo II: 0 / Tipo III: 0<br><br><b>UCI Neo</b><br>convencional: 0 / Caguru: 0\",\"<b>MATERNIDADE ALCIDES CURSINO</b><br>BUIQUE<br><br><b>Leitos Obstetr\\u00edcia</b><br>Cir\\u00fagicos: 6 / Cl\\u00ednica: 2<br><br><b>UTI Neo</b><br>Tipo I: 0 / Tipo II: 0 / Tipo III: 0<br><br><b>UCI Neo</b><br>convencional: 0 / Caguru: 0\",\"<b>IBVASF</b><br>PETROLANDIA<br><br><b>Leitos Obstetr\\u00edcia</b><br>Cir\\u00fagicos: 6 / Cl\\u00ednica: 10<br><br><b>UTI Neo</b><br>Tipo I: 0 / Tipo II: 0 / Tipo III: 0<br><br><b>UCI Neo</b><br>convencional: 0 / Caguru: 0\",\"<b>IMIP</b><br>RECIFE<br><br><b>Leitos Obstetr\\u00edcia</b><br>Cir\\u00fagicos: 76 / Cl\\u00ednica: 28<br><br><b>UTI Neo</b><br>Tipo I: 0 / Tipo II: 0 / Tipo III: 18<br><br><b>UCI Neo</b><br>convencional: 0 / Caguru: 0\",\"<b>PRONTO SOCORRO SAO FRANCISCO LTDA</b><br>SALGUEIRO<br><br><b>Leitos Obstetr\\u00edcia</b><br>Cir\\u00fagicos: 0 / Cl\\u00ednica: 0<br><br><b>UTI Neo</b><br>Tipo I: 0 / Tipo II: 0 / Tipo III: 0<br><br><b>UCI Neo</b><br>convencional: 0 / Caguru: 0\",\"<b>PRONTO SOCORRO SAO FRANCISCO LTDA</b><br>SALGUEIRO<br><br><b>Leitos Obstetr\\u00edcia</b><br>Cir\\u00fagicos: 0 / Cl\\u00ednica: 0<br><br><b>UTI Neo</b><br>Tipo I: 0 / Tipo II: 0 / Tipo III: 0<br><br><b>UCI Neo</b><br>convencional: 0 / Caguru: 0\",\"<b>PRONTO SOCORRO SAO FRANCISCO LTDA</b><br>SALGUEIRO<br><br><b>Leitos Obstetr\\u00edcia</b><br>Cir\\u00fagicos: 4 / Cl\\u00ednica: 0<br><br><b>UTI Neo</b><br>Tipo I: 0 / Tipo II: 0 / Tipo III: 0<br><br><b>UCI Neo</b><br>convencional: 0 / Caguru: 0\"],\"lat\":[-8.030303955078125,-8.038481712341309,-7.558028221130371,-9.394730567932129,-7.744135856628418,-7.744135856628418,-8.270162582397461,-8.11350154876709,-8.686700820922852,-8.882495880126953,-8.882495880126953,-7.7374725341796875,-7.883040904998779,-7.883040904998779,-8.057869911193848,-8.057869911193848,-7.881453990936279,-7.98884391784668,-8.422281265258789,-8.037784576416016,-8.04743480682373,-8.731579780578613,-8.620566368103027,-8.620657920837402,-8.620657920837402,-8.972020149230957,-8.066906929016113,-8.072993278503418,-8.072993278503418,-8.072993278503418],\"lon\":[-34.907127380371094,-34.93898391723633,-35.002708435058594,-40.499603271484375,-35.22877502441406,-35.22877502441406,-35.97416305541992,-35.28709030151367,-35.57508850097656,-36.483577728271484,-36.483577728271484,-37.65068817138672,-40.08453369140625,-40.08453369140625,-39.11371612548828,-39.11371612548828,-35.449073791503906,-38.299049377441406,-37.054927825927734,-34.88824462890625,-34.94631576538086,-35.80393981933594,-39.601287841796875,-37.155914306640625,-37.155914306640625,-38.21726989746094,-34.89027404785156,-39.123504638671875,-39.123504638671875,-39.123504638671875],\"marker\":{\"size\":13},\"mode\":\"markers\",\"name\":\"COM leitos obst.\",\"type\":\"scattermapbox\"},{\"hovertemplate\":\"%{hovertext}\",\"hovertext\":[\"<b>HOSPITAL COLONIA PROFESSOR ALCIDES CODECEIRA (ATIVIDADES ENCERRADAS)</b><br>IGARASSU<br><br><b>Leitos Obstetr\\u00edcia</b><br>Cir\\u00fagicos: 0 / Cl\\u00ednica: 0<br><br><b>UTI Neo</b><br>Tipo I: 0 / Tipo II: 0 / Tipo III: 0<br><br><b>UCI Neo</b><br>convencional: 0 / Caguru: 0\",\"<b>HOSPITAL CORREIA PICANCO</b><br>RECIFE<br><br><b>Leitos Obstetr\\u00edcia</b><br>Cir\\u00fagicos: 0 / Cl\\u00ednica: 0<br><br><b>UTI Neo</b><br>Tipo I: 0 / Tipo II: 0 / Tipo III: 0<br><br><b>UCI Neo</b><br>convencional: 0 / Caguru: 0\",\"<b>HOSPITAL DA RESTAURACAO</b><br>RECIFE<br><br><b>Leitos Obstetr\\u00edcia</b><br>Cir\\u00fagicos: 0 / Cl\\u00ednica: 0<br><br><b>UTI Neo</b><br>Tipo I: 0 / Tipo II: 0 / Tipo III: 0<br><br><b>UCI Neo</b><br>convencional: 0 / Caguru: 0\",\"<b>HOSPITAL GERAL DA MIRUEIRA (SANATORIO PADRE ANTONIO MANUEL)</b><br>PAULISTA<br><br><b>Leitos Obstetr\\u00edcia</b><br>Cir\\u00fagicos: 0 / Cl\\u00ednica: 0<br><br><b>UTI Neo</b><br>Tipo I: 0 / Tipo II: 0 / Tipo III: 0<br><br><b>UCI Neo</b><br>convencional: 0 / Caguru: 0\",\"<b>HOSPITAL GERAL DE AREIAS</b><br>RECIFE<br><br><b>Leitos Obstetr\\u00edcia</b><br>Cir\\u00fagicos: 0 / Cl\\u00ednica: 0<br><br><b>UTI Neo</b><br>Tipo I: 0 / Tipo II: 0 / Tipo III: 0<br><br><b>UCI Neo</b><br>convencional: 0 / Caguru: 0\",\"<b>HOSPITAL GERAL DE AREIAS</b><br>RECIFE<br><br><b>Leitos Obstetr\\u00edcia</b><br>Cir\\u00fagicos: 0 / Cl\\u00ednica: 0<br><br><b>UTI Neo</b><br>Tipo I: 0 / Tipo II: 0 / Tipo III: 0<br><br><b>UCI Neo</b><br>convencional: 0 / Caguru: 0\",\"<b>HOSPITAL GETULIO VARGAS</b><br>RECIFE<br><br><b>Leitos Obstetr\\u00edcia</b><br>Cir\\u00fagicos: 0 / Cl\\u00ednica: 0<br><br><b>UTI Neo</b><br>Tipo I: 0 / Tipo II: 0 / Tipo III: 0<br><br><b>UCI Neo</b><br>convencional: 0 / Caguru: 0\",\"<b>HOSPITAL GETULIO VARGAS</b><br>RECIFE<br><br><b>Leitos Obstetr\\u00edcia</b><br>Cir\\u00fagicos: 0 / Cl\\u00ednica: 0<br><br><b>UTI Neo</b><br>Tipo I: 0 / Tipo II: 0 / Tipo III: 0<br><br><b>UCI Neo</b><br>convencional: 0 / Caguru: 0\",\"<b>HOSPITAL JABOATAO PRAZERES</b><br>JABOATAO DOS GUARARAPES<br><br><b>Leitos Obstetr\\u00edcia</b><br>Cir\\u00fagicos: 0 / Cl\\u00ednica: 0<br><br><b>UTI Neo</b><br>Tipo I: 0 / Tipo II: 0 / Tipo III: 0<br><br><b>UCI Neo</b><br>convencional: 0 / Caguru: 0\",\"<b>HOSPITAL METROPOLITANO NORTE - MIGUEL ARRAES DE ALENCAR</b><br>PAULISTA<br><br><b>Leitos Obstetr\\u00edcia</b><br>Cir\\u00fagicos: 0 / Cl\\u00ednica: 0<br><br><b>UTI Neo</b><br>Tipo I: 0 / Tipo II: 0 / Tipo III: 0<br><br><b>UCI Neo</b><br>convencional: 0 / Caguru: 0\",\"<b>HOSPITAL METROPOLITANO OESTE - PELOPIDAS SILVEIRA</b><br>RECIFE<br><br><b>Leitos Obstetr\\u00edcia</b><br>Cir\\u00fagicos: 0 / Cl\\u00ednica: 0<br><br><b>UTI Neo</b><br>Tipo I: 0 / Tipo II: 0 / Tipo III: 0<br><br><b>UCI Neo</b><br>convencional: 0 / Caguru: 0\",\"<b>HOSPITAL METROPOLITANO SUL - DOM HELDER CAMARA</b><br>CABO DE SANTO AGOSTINHO<br><br><b>Leitos Obstetr\\u00edcia</b><br>Cir\\u00fagicos: 0 / Cl\\u00ednica: 0<br><br><b>UTI Neo</b><br>Tipo I: 0 / Tipo II: 0 / Tipo III: 0<br><br><b>UCI Neo</b><br>convencional: 0 / Caguru: 0\",\"<b>HOSPITAL OTAVIO DE FREITAS</b><br>RECIFE<br><br><b>Leitos Obstetr\\u00edcia</b><br>Cir\\u00fagicos: 0 / Cl\\u00ednica: 0<br><br><b>UTI Neo</b><br>Tipo I: 0 / Tipo II: 0 / Tipo III: 0<br><br><b>UCI Neo</b><br>convencional: 0 / Caguru: 0\",\"<b>HOSPITAL PSIQUIATRICO ULYSSES PERNAMBUCANO</b><br>RECIFE<br><br><b>Leitos Obstetr\\u00edcia</b><br>Cir\\u00fagicos: 0 / Cl\\u00ednica: 0<br><br><b>UTI Neo</b><br>Tipo I: 0 / Tipo II: 0 / Tipo III: 0<br><br><b>UCI Neo</b><br>convencional: 0 / Caguru: 0\",\"<b>HOSPITAL SAO LUCAS</b><br>FERNANDO DE NORONHA<br><br><b>Leitos Obstetr\\u00edcia</b><br>Cir\\u00fagicos: 0 / Cl\\u00ednica: 0<br><br><b>UTI Neo</b><br>Tipo I: 0 / Tipo II: 0 / Tipo III: 0<br><br><b>UCI Neo</b><br>convencional: 0 / Caguru: 0\",\"<b>HOSPITAL MESTRE VITALINO</b><br>CARUARU<br><br><b>Leitos Obstetr\\u00edcia</b><br>Cir\\u00fagicos: 0 / Cl\\u00ednica: 0<br><br><b>UTI Neo</b><br>Tipo I: 0 / Tipo II: 0 / Tipo III: 0<br><br><b>UCI Neo</b><br>convencional: 0 / Caguru: 0\",\"<b>HOSPITAL REGIONAL DO AGRESTE DR. WALDEMIRO FERREIRA</b><br>CARUARU<br><br><b>Leitos Obstetr\\u00edcia</b><br>Cir\\u00fagicos: 0 / Cl\\u00ednica: 0<br><br><b>UTI Neo</b><br>Tipo I: 0 / Tipo II: 0 / Tipo III: 0<br><br><b>UCI Neo</b><br>convencional: 0 / Caguru: 0\",\"<b>HOSPITAL SAO SEBASTIAO</b><br>CARUARU<br><br><b>Leitos Obstetr\\u00edcia</b><br>Cir\\u00fagicos: 2 / Cl\\u00ednica: 2<br><br><b>UTI Neo</b><br>Tipo I: 0 / Tipo II: 0 / Tipo III: 0<br><br><b>UCI Neo</b><br>convencional: 0 / Caguru: 0\",\"<b>HOSPITAL SAO SEBASTIAO</b><br>CARUARU<br><br><b>Leitos Obstetr\\u00edcia</b><br>Cir\\u00fagicos: 0 / Cl\\u00ednica: 0<br><br><b>UTI Neo</b><br>Tipo I: 0 / Tipo II: 0 / Tipo III: 0<br><br><b>UCI Neo</b><br>convencional: 0 / Caguru: 0\"],\"lat\":[-7.86734676361084,-8.033934593200684,-8.053504943847656,-7.968411922454834,-8.100144386291504,-8.100144386291504,-8.051260948181152,-8.051260948181152,-8.16614818572998,-7.920229434967041,-8.072649002075195,-8.250707626342773,-8.085956573486328,-8.03394603729248,-3.8456618785858154,-8.245341300964355,-8.307584762573242,-8.279977798461914,-8.279977798461914],\"lon\":[-34.91043472290039,-34.90474319458008,-34.89773941040039,-34.89338684082031,-34.92640686035156,-34.92640686035156,-34.92224884033203,-34.92224884033203,-34.92361831665039,-34.89103698730469,-34.95010757446289,-35.009456634521484,-34.962162017822266,-34.90214920043945,-32.41059875488281,-35.97422409057617,-35.96814727783203,-35.97120666503906,-35.97120666503906],\"marker\":{\"size\":14},\"mode\":\"markers\",\"name\":\"SEM leitos obst.\",\"type\":\"scattermapbox\"}],                        {\"template\":{\"data\":{\"histogram2dcontour\":[{\"type\":\"histogram2dcontour\",\"colorbar\":{\"outlinewidth\":0,\"ticks\":\"\"},\"colorscale\":[[0.0,\"#0d0887\"],[0.1111111111111111,\"#46039f\"],[0.2222222222222222,\"#7201a8\"],[0.3333333333333333,\"#9c179e\"],[0.4444444444444444,\"#bd3786\"],[0.5555555555555556,\"#d8576b\"],[0.6666666666666666,\"#ed7953\"],[0.7777777777777778,\"#fb9f3a\"],[0.8888888888888888,\"#fdca26\"],[1.0,\"#f0f921\"]]}],\"choropleth\":[{\"type\":\"choropleth\",\"colorbar\":{\"outlinewidth\":0,\"ticks\":\"\"}}],\"histogram2d\":[{\"type\":\"histogram2d\",\"colorbar\":{\"outlinewidth\":0,\"ticks\":\"\"},\"colorscale\":[[0.0,\"#0d0887\"],[0.1111111111111111,\"#46039f\"],[0.2222222222222222,\"#7201a8\"],[0.3333333333333333,\"#9c179e\"],[0.4444444444444444,\"#bd3786\"],[0.5555555555555556,\"#d8576b\"],[0.6666666666666666,\"#ed7953\"],[0.7777777777777778,\"#fb9f3a\"],[0.8888888888888888,\"#fdca26\"],[1.0,\"#f0f921\"]]}],\"heatmap\":[{\"type\":\"heatmap\",\"colorbar\":{\"outlinewidth\":0,\"ticks\":\"\"},\"colorscale\":[[0.0,\"#0d0887\"],[0.1111111111111111,\"#46039f\"],[0.2222222222222222,\"#7201a8\"],[0.3333333333333333,\"#9c179e\"],[0.4444444444444444,\"#bd3786\"],[0.5555555555555556,\"#d8576b\"],[0.6666666666666666,\"#ed7953\"],[0.7777777777777778,\"#fb9f3a\"],[0.8888888888888888,\"#fdca26\"],[1.0,\"#f0f921\"]]}],\"heatmapgl\":[{\"type\":\"heatmapgl\",\"colorbar\":{\"outlinewidth\":0,\"ticks\":\"\"},\"colorscale\":[[0.0,\"#0d0887\"],[0.1111111111111111,\"#46039f\"],[0.2222222222222222,\"#7201a8\"],[0.3333333333333333,\"#9c179e\"],[0.4444444444444444,\"#bd3786\"],[0.5555555555555556,\"#d8576b\"],[0.6666666666666666,\"#ed7953\"],[0.7777777777777778,\"#fb9f3a\"],[0.8888888888888888,\"#fdca26\"],[1.0,\"#f0f921\"]]}],\"contourcarpet\":[{\"type\":\"contourcarpet\",\"colorbar\":{\"outlinewidth\":0,\"ticks\":\"\"}}],\"contour\":[{\"type\":\"contour\",\"colorbar\":{\"outlinewidth\":0,\"ticks\":\"\"},\"colorscale\":[[0.0,\"#0d0887\"],[0.1111111111111111,\"#46039f\"],[0.2222222222222222,\"#7201a8\"],[0.3333333333333333,\"#9c179e\"],[0.4444444444444444,\"#bd3786\"],[0.5555555555555556,\"#d8576b\"],[0.6666666666666666,\"#ed7953\"],[0.7777777777777778,\"#fb9f3a\"],[0.8888888888888888,\"#fdca26\"],[1.0,\"#f0f921\"]]}],\"surface\":[{\"type\":\"surface\",\"colorbar\":{\"outlinewidth\":0,\"ticks\":\"\"},\"colorscale\":[[0.0,\"#0d0887\"],[0.1111111111111111,\"#46039f\"],[0.2222222222222222,\"#7201a8\"],[0.3333333333333333,\"#9c179e\"],[0.4444444444444444,\"#bd3786\"],[0.5555555555555556,\"#d8576b\"],[0.6666666666666666,\"#ed7953\"],[0.7777777777777778,\"#fb9f3a\"],[0.8888888888888888,\"#fdca26\"],[1.0,\"#f0f921\"]]}],\"mesh3d\":[{\"type\":\"mesh3d\",\"colorbar\":{\"outlinewidth\":0,\"ticks\":\"\"}}],\"scatter\":[{\"fillpattern\":{\"fillmode\":\"overlay\",\"size\":10,\"solidity\":0.2},\"type\":\"scatter\"}],\"parcoords\":[{\"type\":\"parcoords\",\"line\":{\"colorbar\":{\"outlinewidth\":0,\"ticks\":\"\"}}}],\"scatterpolargl\":[{\"type\":\"scatterpolargl\",\"marker\":{\"colorbar\":{\"outlinewidth\":0,\"ticks\":\"\"}}}],\"bar\":[{\"error_x\":{\"color\":\"#2a3f5f\"},\"error_y\":{\"color\":\"#2a3f5f\"},\"marker\":{\"line\":{\"color\":\"#E5ECF6\",\"width\":0.5},\"pattern\":{\"fillmode\":\"overlay\",\"size\":10,\"solidity\":0.2}},\"type\":\"bar\"}],\"scattergeo\":[{\"type\":\"scattergeo\",\"marker\":{\"colorbar\":{\"outlinewidth\":0,\"ticks\":\"\"}}}],\"scatterpolar\":[{\"type\":\"scatterpolar\",\"marker\":{\"colorbar\":{\"outlinewidth\":0,\"ticks\":\"\"}}}],\"histogram\":[{\"marker\":{\"pattern\":{\"fillmode\":\"overlay\",\"size\":10,\"solidity\":0.2}},\"type\":\"histogram\"}],\"scattergl\":[{\"type\":\"scattergl\",\"marker\":{\"colorbar\":{\"outlinewidth\":0,\"ticks\":\"\"}}}],\"scatter3d\":[{\"type\":\"scatter3d\",\"line\":{\"colorbar\":{\"outlinewidth\":0,\"ticks\":\"\"}},\"marker\":{\"colorbar\":{\"outlinewidth\":0,\"ticks\":\"\"}}}],\"scattermapbox\":[{\"type\":\"scattermapbox\",\"marker\":{\"colorbar\":{\"outlinewidth\":0,\"ticks\":\"\"}}}],\"scatterternary\":[{\"type\":\"scatterternary\",\"marker\":{\"colorbar\":{\"outlinewidth\":0,\"ticks\":\"\"}}}],\"scattercarpet\":[{\"type\":\"scattercarpet\",\"marker\":{\"colorbar\":{\"outlinewidth\":0,\"ticks\":\"\"}}}],\"carpet\":[{\"aaxis\":{\"endlinecolor\":\"#2a3f5f\",\"gridcolor\":\"white\",\"linecolor\":\"white\",\"minorgridcolor\":\"white\",\"startlinecolor\":\"#2a3f5f\"},\"baxis\":{\"endlinecolor\":\"#2a3f5f\",\"gridcolor\":\"white\",\"linecolor\":\"white\",\"minorgridcolor\":\"white\",\"startlinecolor\":\"#2a3f5f\"},\"type\":\"carpet\"}],\"table\":[{\"cells\":{\"fill\":{\"color\":\"#EBF0F8\"},\"line\":{\"color\":\"white\"}},\"header\":{\"fill\":{\"color\":\"#C8D4E3\"},\"line\":{\"color\":\"white\"}},\"type\":\"table\"}],\"barpolar\":[{\"marker\":{\"line\":{\"color\":\"#E5ECF6\",\"width\":0.5},\"pattern\":{\"fillmode\":\"overlay\",\"size\":10,\"solidity\":0.2}},\"type\":\"barpolar\"}],\"pie\":[{\"automargin\":true,\"type\":\"pie\"}]},\"layout\":{\"autotypenumbers\":\"strict\",\"colorway\":[\"#636efa\",\"#EF553B\",\"#00cc96\",\"#ab63fa\",\"#FFA15A\",\"#19d3f3\",\"#FF6692\",\"#B6E880\",\"#FF97FF\",\"#FECB52\"],\"font\":{\"color\":\"#2a3f5f\"},\"hovermode\":\"closest\",\"hoverlabel\":{\"align\":\"left\"},\"paper_bgcolor\":\"white\",\"plot_bgcolor\":\"#E5ECF6\",\"polar\":{\"bgcolor\":\"#E5ECF6\",\"angularaxis\":{\"gridcolor\":\"white\",\"linecolor\":\"white\",\"ticks\":\"\"},\"radialaxis\":{\"gridcolor\":\"white\",\"linecolor\":\"white\",\"ticks\":\"\"}},\"ternary\":{\"bgcolor\":\"#E5ECF6\",\"aaxis\":{\"gridcolor\":\"white\",\"linecolor\":\"white\",\"ticks\":\"\"},\"baxis\":{\"gridcolor\":\"white\",\"linecolor\":\"white\",\"ticks\":\"\"},\"caxis\":{\"gridcolor\":\"white\",\"linecolor\":\"white\",\"ticks\":\"\"}},\"coloraxis\":{\"colorbar\":{\"outlinewidth\":0,\"ticks\":\"\"}},\"colorscale\":{\"sequential\":[[0.0,\"#0d0887\"],[0.1111111111111111,\"#46039f\"],[0.2222222222222222,\"#7201a8\"],[0.3333333333333333,\"#9c179e\"],[0.4444444444444444,\"#bd3786\"],[0.5555555555555556,\"#d8576b\"],[0.6666666666666666,\"#ed7953\"],[0.7777777777777778,\"#fb9f3a\"],[0.8888888888888888,\"#fdca26\"],[1.0,\"#f0f921\"]],\"sequentialminus\":[[0.0,\"#0d0887\"],[0.1111111111111111,\"#46039f\"],[0.2222222222222222,\"#7201a8\"],[0.3333333333333333,\"#9c179e\"],[0.4444444444444444,\"#bd3786\"],[0.5555555555555556,\"#d8576b\"],[0.6666666666666666,\"#ed7953\"],[0.7777777777777778,\"#fb9f3a\"],[0.8888888888888888,\"#fdca26\"],[1.0,\"#f0f921\"]],\"diverging\":[[0,\"#8e0152\"],[0.1,\"#c51b7d\"],[0.2,\"#de77ae\"],[0.3,\"#f1b6da\"],[0.4,\"#fde0ef\"],[0.5,\"#f7f7f7\"],[0.6,\"#e6f5d0\"],[0.7,\"#b8e186\"],[0.8,\"#7fbc41\"],[0.9,\"#4d9221\"],[1,\"#276419\"]]},\"xaxis\":{\"gridcolor\":\"white\",\"linecolor\":\"white\",\"ticks\":\"\",\"title\":{\"standoff\":15},\"zerolinecolor\":\"white\",\"automargin\":true,\"zerolinewidth\":2},\"yaxis\":{\"gridcolor\":\"white\",\"linecolor\":\"white\",\"ticks\":\"\",\"title\":{\"standoff\":15},\"zerolinecolor\":\"white\",\"automargin\":true,\"zerolinewidth\":2},\"scene\":{\"xaxis\":{\"backgroundcolor\":\"#E5ECF6\",\"gridcolor\":\"white\",\"linecolor\":\"white\",\"showbackground\":true,\"ticks\":\"\",\"zerolinecolor\":\"white\",\"gridwidth\":2},\"yaxis\":{\"backgroundcolor\":\"#E5ECF6\",\"gridcolor\":\"white\",\"linecolor\":\"white\",\"showbackground\":true,\"ticks\":\"\",\"zerolinecolor\":\"white\",\"gridwidth\":2},\"zaxis\":{\"backgroundcolor\":\"#E5ECF6\",\"gridcolor\":\"white\",\"linecolor\":\"white\",\"showbackground\":true,\"ticks\":\"\",\"zerolinecolor\":\"white\",\"gridwidth\":2}},\"shapedefaults\":{\"line\":{\"color\":\"#2a3f5f\"}},\"annotationdefaults\":{\"arrowcolor\":\"#2a3f5f\",\"arrowhead\":0,\"arrowwidth\":1},\"geo\":{\"bgcolor\":\"white\",\"landcolor\":\"#E5ECF6\",\"subunitcolor\":\"white\",\"showland\":true,\"showlakes\":true,\"lakecolor\":\"white\"},\"title\":{\"x\":0.05},\"mapbox\":{\"style\":\"light\"}}},\"mapbox\":{\"center\":{\"lat\":-8.5517,\"lon\":-37.7073},\"style\":\"carto-positron\",\"zoom\":6},\"title\":{\"text\":\"Estabelecimentos/Hospitais\"}},                        {\"responsive\": true}                    ).then(function(){\n",
       "                            \n",
       "var gd = document.getElementById('91f729ca-c456-4ac6-a01c-5e1b4311832b');\n",
       "var x = new MutationObserver(function (mutations, observer) {{\n",
       "        var display = window.getComputedStyle(gd).display;\n",
       "        if (!display || display === 'none') {{\n",
       "            console.log([gd, 'removed!']);\n",
       "            Plotly.purge(gd);\n",
       "            observer.disconnect();\n",
       "        }}\n",
       "}});\n",
       "\n",
       "// Listen for the removal of the full notebook cells\n",
       "var notebookContainer = gd.closest('#notebook-container');\n",
       "if (notebookContainer) {{\n",
       "    x.observe(notebookContainer, {childList: true});\n",
       "}}\n",
       "\n",
       "// Listen for the clearing of the current output cell\n",
       "var outputEl = gd.closest('.output');\n",
       "if (outputEl) {{\n",
       "    x.observe(outputEl, {childList: true});\n",
       "}}\n",
       "\n",
       "                        })                };                });            </script>        </div>"
      ]
     },
     "metadata": {},
     "output_type": "display_data"
    }
   ],
   "source": [
    "df_hosp_leitos_com_obst = df_hosp_leitos2.query(\"proced_partos == 'SIM'\")\n",
    "df_hosp_leitos_sem_obst = df_hosp_leitos2.query(\"proced_partos == 'NAO'\")\n",
    "\n",
    "def hover_template(df):\n",
    "    cols_hover = ['estabelecimento', 'municipio']  + cols_\n",
    "    hover_text = [\n",
    "        '<b>{}</b><br>{}<br><br><b>Leitos Obstetrícia</b><br>Cirúgicos: {} / Clínica: {}<br><br><b>UTI Neo</b><br>Tipo I: {} / Tipo II: {} / Tipo III: {}<br><br><b>UCI Neo</b><br>convencional: {} / Caguru: {}'.format(\n",
    "            txt[0], txt[1], txt[2], txt[3], txt[4], txt[5], txt[6], txt[7], txt[8]\n",
    "            ) \n",
    "        for txt in df[cols_hover].values\n",
    "        ]\n",
    "    return hover_text\n",
    "\n",
    "fig = go.Figure([\n",
    "    go.Scattermapbox(\n",
    "        name='COM leitos obst.',\n",
    "        lat=df_hosp_leitos_com_obst['lat'],\n",
    "        lon=df_hosp_leitos_com_obst['lng'],\n",
    "        mode='markers',\n",
    "        marker=go.scattermapbox.Marker(\n",
    "            size=13\n",
    "            # size=df_hosp_leitos_com_obst['total_leitos_obstetricos'] / 2.5\n",
    "        ),\n",
    "        hovertext=hover_template(df_hosp_leitos_com_obst),\n",
    "        hovertemplate=\"%{hovertext}\"\n",
    "    ),\n",
    "    go.Scattermapbox(\n",
    "        name='SEM leitos obst.',\n",
    "        lat=df_hosp_leitos_sem_obst['lat'],\n",
    "        lon=df_hosp_leitos_sem_obst['lng'],\n",
    "        mode='markers',\n",
    "        marker=dict(\n",
    "            size=14\n",
    "        ),\n",
    "        hovertext=hover_template(df_hosp_leitos_sem_obst),\n",
    "        hovertemplate=\"%{hovertext}\"\n",
    "    ),\n",
    "])\n",
    "\n",
    "fig.update_layout(\n",
    "    title=\"Estabelecimentos/Hospitais\",\n",
    "    mapbox_style=\"carto-positron\",\n",
    "    mapbox_zoom=6, \n",
    "    mapbox_center = {\"lat\": -8.5517, \"lon\": -37.7073}\n",
    ")\n",
    "\n",
    "fig.show()"
   ]
  },
  {
   "attachments": {},
   "cell_type": "markdown",
   "metadata": {},
   "source": [
    "#### Exportando"
   ]
  },
  {
   "cell_type": "code",
   "execution_count": 21,
   "metadata": {},
   "outputs": [],
   "source": [
    "df_hosp_leitos2.to_parquet(f'{DATAOUT}/estabelecimentos.parquet.gzip')"
   ]
  }
 ],
 "metadata": {
  "kernelspec": {
   "display_name": "ve",
   "language": "python",
   "name": "python3"
  },
  "language_info": {
   "codemirror_mode": {
    "name": "ipython",
    "version": 3
   },
   "file_extension": ".py",
   "mimetype": "text/x-python",
   "name": "python",
   "nbconvert_exporter": "python",
   "pygments_lexer": "ipython3",
   "version": "3.10.8"
  },
  "orig_nbformat": 4
 },
 "nbformat": 4,
 "nbformat_minor": 2
}
